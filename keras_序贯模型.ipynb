{
 "cells": [
  {
   "cell_type": "markdown",
   "metadata": {},
   "source": [
    "# 快速开始序贯（sequential）模型"
   ]
  },
  {
   "cell_type": "code",
   "execution_count": 1,
   "metadata": {},
   "outputs": [
    {
     "name": "stderr",
     "output_type": "stream",
     "text": [
      "Using TensorFlow backend.\n"
     ]
    }
   ],
   "source": [
    "from keras.models import Sequential\n",
    "from keras.layers import Dense,Activation"
   ]
  },
  {
   "cell_type": "code",
   "execution_count": 2,
   "metadata": {
    "collapsed": true
   },
   "outputs": [],
   "source": [
    "model=Sequential([Dense(32,input_shape=(784,)),Activation('relu'),Dense(10),Activation('softmax')])\n",
    "model=Sequential()\n",
    "model.add(Dense(32,input_shape=(784,)))\n",
    "model.add(Activation('relu))"
   ]
  },
  {
   "cell_type": "markdown",
   "metadata": {},
   "source": [
    "# 编译"
   ]
  },
  {
   "cell_type": "markdown",
   "metadata": {},
   "source": [
    "\n",
    "## 1.优化器 optimizers\n",
    "优化器是编译Keras模型的必要的两个参数之一"
   ]
  },
  {
   "cell_type": "code",
   "execution_count": 3,
   "metadata": {
    "collapsed": true
   },
   "outputs": [],
   "source": [
    "from keras import optimizers\n",
    "model=Sequential()\n",
    "model.add(Dense(64,kernel_initializer='uniform',input_shape=(10,)))\n",
    "model.add(Activation('tanh'))\n",
    "model.add(Activation('softmax'))\n",
    "\n",
    "sgd=optimizers.SGD(lr=.01,decay=1e-6,momentum=.9,nesterov=True)\n",
    "model.compile(loss='mean_squared_error',optimizer=sgd)"
   ]
  },
  {
   "cell_type": "markdown",
   "metadata": {},
   "source": [
    "可以在调用model.compile()之前初始化一个优化器对象，然后传入该函数（如上所示），也可以在调用时传递一个优化器名，参数为默认值。"
   ]
  },
  {
   "cell_type": "code",
   "execution_count": 8,
   "metadata": {
    "collapsed": true
   },
   "outputs": [],
   "source": [
    "#pass optimizer by name: default parameters will be used\n",
    "\n",
    "model.compile(loss='mean_squared_error''optimizer='sgd)"
   ]
  },
  {
   "cell_type": "markdown",
   "metadata": {},
   "source": [
    "### 所有优化器都可用的参数\n",
    "clipnorm和clipvalue 用于对梯度进行裁剪"
   ]
  },
  {
   "cell_type": "code",
   "execution_count": null,
   "metadata": {
    "collapsed": true
   },
   "outputs": [],
   "source": [
    "#All parameter gradients will be clipped to\n",
    "#a maximum norm of 1\n",
    "\n",
    "sgd=optimizers.SGD(lr=.01,clipnorm=1.)\n",
    "\n",
    "#a maximum value of 0,5 and a minimum value of -0.5\n",
    "sgd=optimizers.SGD(lr=.01,clipvalue=.5)\n",
    "\n"
   ]
  },
  {
   "cell_type": "markdown",
   "metadata": {},
   "source": [
    "### 1.1 SGD  \n",
    "随机梯度下降法，支持动量参数，支持学习衰减率，支持Nesteror动量"
   ]
  },
  {
   "cell_type": "code",
   "execution_count": 9,
   "metadata": {
    "collapsed": true
   },
   "outputs": [],
   "source": [
    "optimizers.SGD(lr=.01,momentum=.0,decay=.0,nesterov=False)"
   ]
  },
  {
   "cell_type": "markdown",
   "metadata": {},
   "source": [
    "#### 参数  \n",
    "* lr:大于或等于0的浮点数，学习率\n",
    "* momentum:大于或等于0的浮点数，动量参数\n",
    "* decay:大或等于0的浮点数，每次更新后的学习率衰减值\n",
    "* nesteror: 布尔值，确定时候使用Nesterov动量"
   ]
  },
  {
   "cell_type": "markdown",
   "metadata": {},
   "source": [
    "### 1.2 RMSprop\n",
    "除学习率可调整外，建议其他参数默认  \n",
    "该优化器通常是面对递归神经网络的一个良好选择"
   ]
  },
  {
   "cell_type": "code",
   "execution_count": 10,
   "metadata": {
    "collapsed": true
   },
   "outputs": [],
   "source": [
    "optimizers.RMSprop(lr=.001,rho=.9,epsilon=1e-6)"
   ]
  },
  {
   "cell_type": "markdown",
   "metadata": {},
   "source": [
    "#### 参数\n",
    "* lr:学习率\n",
    "* rho:大或等于0的浮点数\n",
    "* epsilom: 大或等于0的小浮点数，防止除0错误"
   ]
  },
  {
   "cell_type": "markdown",
   "metadata": {},
   "source": [
    "### 1.3 Adagrad\n",
    "建议保持优化器的默认参数不变"
   ]
  },
  {
   "cell_type": "code",
   "execution_count": 11,
   "metadata": {
    "collapsed": true
   },
   "outputs": [],
   "source": [
    "optimizers.Adagrad(lr=.01,epsilon=1e-6)"
   ]
  },
  {
   "cell_type": "markdown",
   "metadata": {},
   "source": [
    "#### 参数\n",
    "* lr:学习率\n",
    "* epsilom: 大或等于0的小浮点数，防止除0错误"
   ]
  },
  {
   "cell_type": "markdown",
   "metadata": {},
   "source": [
    "### 1.4 Adadelta\n",
    "建议保持优化器的默认参数不变"
   ]
  },
  {
   "cell_type": "code",
   "execution_count": 12,
   "metadata": {
    "collapsed": true
   },
   "outputs": [],
   "source": [
    "optimizers.Adadelta(lr=1.0,rho=.95,epsilon=1e-6)"
   ]
  },
  {
   "cell_type": "markdown",
   "metadata": {},
   "source": [
    "#### 参数\n",
    "* lr:学习率\n",
    "* rho:大或等于0的浮点数\n",
    "* epsilom: 大或等于0的小浮点数，防止除0错误"
   ]
  },
  {
   "cell_type": "markdown",
   "metadata": {},
   "source": [
    "## 2 目标函数objectives\n",
    "目标函数，或称损失函数，是编译一个模型必须的两个参数之一"
   ]
  },
  {
   "cell_type": "code",
   "execution_count": 13,
   "metadata": {
    "collapsed": true
   },
   "outputs": [],
   "source": [
    "model.compile(loss='mean_squared_error',optimizer='sgd')"
   ]
  },
  {
   "cell_type": "markdown",
   "metadata": {},
   "source": [
    "可以通过传递**预定目标函数名字**指定目标函数,也可以传递一个**Theano/Tensorflow的符号函数**作为目标函数，该函数对每个数据点都应该只返回一个标量值，并以下列两个参数为参数：  \n",
    "* y_true:真实的数据标签，张量  \n",
    "* y_pred:预测值，与y_true相同shape的张量   \n",
    "\n",
    "真实的优化目标函数是在各个数据点得到的损失函数之和的均值"
   ]
  },
  {
   "cell_type": "markdown",
   "metadata": {},
   "source": [
    "#### 可用的目标函数"
   ]
  },
  {
   "cell_type": "markdown",
   "metadata": {},
   "source": [
    "* mean_squared_error or mse\n",
    "* mean_absolute_error or mae\n",
    "* mean_absolute_percentage_error or mape\n",
    "* mena_squared_logarithmic_error or msle\n",
    "* squared_hinge\n",
    "* hinge\n",
    "* categorical_hinge\n",
    "* binary_crossentropy(二元交叉熵，也称对数损失)\n",
    "* logcosh\n",
    "* categorical_crossentropy(多类交叉熵，需要将标签转化为二值序列,可使用**to_categorical**函数)\n",
    "* sparse_categorical_crossentropy(如上，可接受稀疏标签)\n",
    "* kullback_leibler_divergence(从预测值概率分布Q到真值概率分布P的信息增益，泳衣度量两个分布的差异)\n",
    "* poisson(mean(predictions-targets*log(predictions)))\n",
    "* cosine_proximity(预测值与真实值的余弦距离平均值的相反数)"
   ]
  },
  {
   "cell_type": "markdown",
   "metadata": {
    "collapsed": true
   },
   "source": [
    "## 3 性能评估"
   ]
  },
  {
   "cell_type": "markdown",
   "metadata": {},
   "source": [
    "### 使用方法"
   ]
  },
  {
   "cell_type": "markdown",
   "metadata": {},
   "source": [
    "性能评估模块提供了一系列用于模型性能评估的函数，这些函数在模型编译时由metrics关键字设置  \n",
    "性能评估函数与目标函数类似，只不过评估结果不会用于训练  \n",
    "可以通过***字符串***来使用域定义的性能评估函数"
   ]
  },
  {
   "cell_type": "code",
   "execution_count": 4,
   "metadata": {
    "collapsed": true
   },
   "outputs": [],
   "source": [
    "model.compile(loss='mse',\n",
    "                       optimizer='sgd',\n",
    "                          metrics=['mae','acc'])"
   ]
  },
  {
   "cell_type": "markdown",
   "metadata": {},
   "source": [
    "也可以定义一个tensorflow函数并使用"
   ]
  },
  {
   "cell_type": "code",
   "execution_count": 5,
   "metadata": {
    "collapsed": true
   },
   "outputs": [],
   "source": [
    "from keras import metrics"
   ]
  },
  {
   "cell_type": "code",
   "execution_count": 6,
   "metadata": {
    "collapsed": true
   },
   "outputs": [],
   "source": [
    "model.compile(loss='mse',optimizer='sgd',metrics=[metrics.mae,metrics.categorical_accuracy])"
   ]
  },
  {
   "cell_type": "markdown",
   "metadata": {},
   "source": [
    "#### 参数  \n",
    "* y_true:真实标签，张量  \n",
    "* y_pred:预测值，张量"
   ]
  },
  {
   "cell_type": "markdown",
   "metadata": {},
   "source": [
    "#### 返回值  \n",
    "单个用以代表输出各个数据点上均值的值"
   ]
  },
  {
   "cell_type": "markdown",
   "metadata": {},
   "source": [
    "### 可用预定义张量  \n",
    "除fbeta_score额外拥有默认参数beta=1外，其他各个性能指标的参数均为y_train和y_pred"
   ]
  },
  {
   "cell_type": "markdown",
   "metadata": {},
   "source": [
    "* binary_accuracy:对二分类问题，计算在所有预测值上的平均正确率\n",
    "* catagorical_accuracy:多多分类问题，计算在所有预测值上的平均正确率\n",
    "* sparse_catagorical_accuracy:与上相同，对稀疏的目标值预测时有用\n",
    "* top_k_catagorical_accuracy:计算top_k的正确率，当预测值的前k个值中存在目标类别即认为预测正确\n",
    "* sparse_top_k_catagorical_accuracy:与上相同，适用于稀疏情况"
   ]
  },
  {
   "cell_type": "markdown",
   "metadata": {},
   "source": [
    "### 定制评估函数  \n",
    "定制的评估函数可以在模型编译时传入，该函数应该以(y_true,y_pred)为参数，返回单个张量，或从metric_name映射到metric_value的字典，下面是一个示例："
   ]
  },
  {
   "cell_type": "code",
   "execution_count": 7,
   "metadata": {
    "collapsed": true
   },
   "outputs": [],
   "source": [
    "import keras.backend as K\n",
    "def mean_pred(y_true,y_pred):\n",
    "    return K.mean(y_pred)\n",
    "\n",
    "model.compile(optimizer='rmsprop',loss='binary_crossentropy',metrics=['accuracy',mean_pred])"
   ]
  },
  {
   "cell_type": "markdown",
   "metadata": {},
   "source": [
    "# 训练"
   ]
  },
  {
   "cell_type": "markdown",
   "metadata": {},
   "source": [
    "keras以numpy数组作为输入数据和标签的数据类型，训练模型一般使用fit函数。"
   ]
  },
  {
   "cell_type": "code",
   "execution_count": null,
   "metadata": {
    "collapsed": true
   },
   "outputs": [],
   "source": [
    "fit(self,x,y,batch_size=32,epoch=10,verbose=1,callbacks=None,validation_split=.0,\n",
    "      validation_data=None,shuffle=True,class_weight=None,sample_weight=None,initial_epoch=0)"
   ]
  },
  {
   "cell_type": "markdown",
   "metadata": {},
   "source": [
    "本函数将模型训练n_epoch轮，其参数有：  \n",
    "* x:输入数据。如果模型只有一个输入，x的类型就是numpy array，如果模型有多个输入，那么x的类型应该为List,list的元素是对应于各个输入的numpy array\n",
    "* y:标签，numpy array\n",
    "* batch_size: 整数，指定进行梯度下降时每个Batch包含的样本数，训练时一个batch的样本会被计算一次梯度下降，是目标函数优化一步。\n",
    "* epochs:整数，训练终止时的epoch值，训练将在达到epoch值时停止，当没有设置initial_epoch时，就是训练的总轮数，否则训练的总轮数为epochs-inital_epoch  \n",
    "* verbose:日志显示，0为不在标注输出流输出日志信息，1为输出进度条记录，2为每个epoch输出一行数据  \n",
    "* callbacks:list, 其中元素是keras.callbacks.Callback的对象，这个list中的回调函数将会在训练过程中的适当时机被调用  \n",
    "* validation_split: 0-1中的浮点数，用来指定训练集中一定比例数据作为验证集，验证集将不参与训练，并在每个epoch结束后测试的模型指标，如损失函数，精确度等。注意：validation_split的划分在shuffle以前，因此如果你的数据本身是有序的，需要先手工打乱再指定validation_split，否则可能会使验证集样本不均匀  \n",
    "* validation_data: 形式为(X,y)的tuple，指定的验证集，覆盖vaolidation_split\n",
    "* shuffle: 布尔值或字符串，表示训练过程是否需要打乱样本的顺序。\n",
    "* class_weight: 权值的numpy array，用于在训练时调整损失函数(仅用于训练)。\n",
    "* initial_epoch: 从该参数指定的epoch开始训练，在继续之前的训练时有用"
   ]
  },
  {
   "cell_type": "markdown",
   "metadata": {},
   "source": [
    "***fit函数返回一个history的对象，其History.history属性记录了损失函数和其他指标的数值随epoch变化的情况，如果有验证集，也包含了验证集的指标变化***"
   ]
  },
  {
   "cell_type": "markdown",
   "metadata": {},
   "source": [
    "#### 例子"
   ]
  },
  {
   "cell_type": "code",
   "execution_count": 16,
   "metadata": {
    "scrolled": true
   },
   "outputs": [
    {
     "name": "stdout",
     "output_type": "stream",
     "text": [
      "Epoch 1/20\n",
      "1000/1000 [==============================] - 1s 580us/step - loss: 0.7119 - acc: 0.4840\n",
      "Epoch 2/20\n",
      "1000/1000 [==============================] - 0s 146us/step - loss: 0.6978 - acc: 0.5080\n",
      "Epoch 3/20\n",
      "1000/1000 [==============================] - 0s 140us/step - loss: 0.6906 - acc: 0.5470\n",
      "Epoch 4/20\n",
      "1000/1000 [==============================] - 0s 138us/step - loss: 0.6880 - acc: 0.5440\n",
      "Epoch 5/20\n",
      "1000/1000 [==============================] - 0s 132us/step - loss: 0.6818 - acc: 0.5580\n",
      "Epoch 6/20\n",
      "1000/1000 [==============================] - 0s 132us/step - loss: 0.6799 - acc: 0.5680\n",
      "Epoch 7/20\n",
      "1000/1000 [==============================] - 0s 141us/step - loss: 0.6743 - acc: 0.5840\n",
      "Epoch 8/20\n",
      "1000/1000 [==============================] - 0s 141us/step - loss: 0.6690 - acc: 0.6050\n",
      "Epoch 9/20\n",
      "1000/1000 [==============================] - 0s 145us/step - loss: 0.6711 - acc: 0.5790\n",
      "Epoch 10/20\n",
      "1000/1000 [==============================] - 0s 133us/step - loss: 0.6642 - acc: 0.5970\n",
      "Epoch 11/20\n",
      "1000/1000 [==============================] - 0s 168us/step - loss: 0.6614 - acc: 0.6100\n",
      "Epoch 12/20\n",
      "1000/1000 [==============================] - 0s 156us/step - loss: 0.6581 - acc: 0.6210\n",
      "Epoch 13/20\n",
      "1000/1000 [==============================] - 0s 142us/step - loss: 0.6577 - acc: 0.6240\n",
      "Epoch 14/20\n",
      "1000/1000 [==============================] - 0s 138us/step - loss: 0.6528 - acc: 0.6160\n",
      "Epoch 15/20\n",
      "1000/1000 [==============================] - 0s 158us/step - loss: 0.6497 - acc: 0.6360\n",
      "Epoch 16/20\n",
      "1000/1000 [==============================] - 0s 169us/step - loss: 0.6462 - acc: 0.6390\n",
      "Epoch 17/20\n",
      "1000/1000 [==============================] - 0s 204us/step - loss: 0.6439 - acc: 0.6310\n",
      "Epoch 18/20\n",
      "1000/1000 [==============================] - 0s 136us/step - loss: 0.6404 - acc: 0.6550\n",
      "Epoch 19/20\n",
      "1000/1000 [==============================] - 0s 146us/step - loss: 0.6425 - acc: 0.6320\n",
      "Epoch 20/20\n",
      "1000/1000 [==============================] - 0s 139us/step - loss: 0.6324 - acc: 0.6680\n"
     ]
    },
    {
     "data": {
      "text/plain": [
       "<keras.callbacks.History at 0x2a9dd7396d8>"
      ]
     },
     "execution_count": 16,
     "metadata": {},
     "output_type": "execute_result"
    }
   ],
   "source": [
    "# for a single_input model with 2 classes(binary classification)\n",
    "model=Sequential()\n",
    "model.add(Dense(32,activation='relu',input_dim=100))\n",
    "model.add(Dense(1,activation='sigmoid'))\n",
    "model.compile(optimizer='rmsprop',loss='binary_crossentropy',\n",
    "                           metrics=['accuracy'] )\n",
    "# generate dummy data\n",
    "import numpy as np\n",
    "data=np.random.random((1000,100))\n",
    "labels=np.random.randint(2,size=1000)\n",
    "\n",
    "#trian the model,interating on the data in batches of 32 samples\n",
    "model.fit(data,labels,epochs=20,batch_size=32)"
   ]
  },
  {
   "cell_type": "code",
   "execution_count": 5,
   "metadata": {
    "scrolled": false
   },
   "outputs": [
    {
     "name": "stdout",
     "output_type": "stream",
     "text": [
      "Epoch 1/10\n",
      "1000/1000 [==============================] - 2s 2ms/step - loss: 2.3593 - acc: 0.1040\n",
      "Epoch 2/10\n",
      "1000/1000 [==============================] - 0s 157us/step - loss: 2.3236 - acc: 0.1070\n",
      "Epoch 3/10\n",
      "1000/1000 [==============================] - 0s 157us/step - loss: 2.3098 - acc: 0.1230\n",
      "Epoch 4/10\n",
      "1000/1000 [==============================] - 0s 171us/step - loss: 2.3014 - acc: 0.1420\n",
      "Epoch 5/10\n",
      "1000/1000 [==============================] - 0s 191us/step - loss: 2.2913 - acc: 0.1390\n",
      "Epoch 6/10\n",
      "1000/1000 [==============================] - 0s 155us/step - loss: 2.2845 - acc: 0.1340\n",
      "Epoch 7/10\n",
      "1000/1000 [==============================] - 0s 164us/step - loss: 2.2774 - acc: 0.1550\n",
      "Epoch 8/10\n",
      "1000/1000 [==============================] - 0s 180us/step - loss: 2.2709 - acc: 0.1480\n",
      "Epoch 9/10\n",
      "1000/1000 [==============================] - 0s 177us/step - loss: 2.2615 - acc: 0.1580\n",
      "Epoch 10/10\n",
      "1000/1000 [==============================] - 0s 211us/step - loss: 2.2551 - acc: 0.1690\n"
     ]
    },
    {
     "data": {
      "text/plain": [
       "<keras.callbacks.History at 0x2e61409b320>"
      ]
     },
     "execution_count": 5,
     "metadata": {},
     "output_type": "execute_result"
    }
   ],
   "source": [
    "# for a single_input model with 10 classes(catagorical classification)\n",
    "model=Sequential()\n",
    "model.add(Dense(32,activation='relu',input_dim=100))\n",
    "model.add(Dense(10,activation='softmax'))\n",
    "model.compile(optimizer='rmsprop',loss='categorical_crossentropy',\n",
    "                           metrics=['accuracy'] )\n",
    "# generate dummy data\n",
    "import numpy as np\n",
    "data=np.random.random((1000,100))\n",
    "labels=np.random.randint(10,size=1000)\n",
    "\n",
    "#convert labels to categorical one_hot encoding\n",
    "import keras\n",
    "one_hot_labels=keras.utils.to_categorical(labels,num_classes=10)\n",
    "#trian the model,interating on the data in batches of 32 samples\n",
    "model.fit(data,one_hot_labels,epochs=10,batch_size=32)"
   ]
  },
  {
   "cell_type": "markdown",
   "metadata": {
    "collapsed": true
   },
   "source": [
    "## 例子"
   ]
  },
  {
   "cell_type": "markdown",
   "metadata": {},
   "source": [
    "在keras 代码包的examples文件夹中，可以找到使用真实数据的示例模型：\n",
    "* CIFAR10小图片分类：使用cnn和实时数据提升\n",
    "* IMDB电影评价观点分类：使用LSTM处理成序列的词语\n",
    "* Reuters（路透社）新闻主题分类：使用多层感知器(MLP)\n",
    "* MNIST手写数据识别：使用多层感知器和cnn\n",
    "* 字符集文本生成：使用LSTM"
   ]
  },
  {
   "cell_type": "markdown",
   "metadata": {},
   "source": [
    "#### 基于多层感知器的softmax多分类"
   ]
  },
  {
   "cell_type": "code",
   "execution_count": 2,
   "metadata": {},
   "outputs": [
    {
     "name": "stdout",
     "output_type": "stream",
     "text": [
      "Epoch 1/20\n",
      "1000/1000 [==============================] - 2s 2ms/step - loss: 2.4383 - acc: 0.1060\n",
      "Epoch 2/20\n",
      "1000/1000 [==============================] - 0s 57us/step - loss: 2.3631 - acc: 0.1090\n",
      "Epoch 3/20\n",
      "1000/1000 [==============================] - 0s 50us/step - loss: 2.3356 - acc: 0.1210\n",
      "Epoch 4/20\n",
      "1000/1000 [==============================] - 0s 42us/step - loss: 2.3295 - acc: 0.1140\n",
      "Epoch 5/20\n",
      "1000/1000 [==============================] - 0s 58us/step - loss: 2.3197 - acc: 0.1090\n",
      "Epoch 6/20\n",
      "1000/1000 [==============================] - 0s 45us/step - loss: 2.3341 - acc: 0.0990\n",
      "Epoch 7/20\n",
      "1000/1000 [==============================] - 0s 50us/step - loss: 2.3143 - acc: 0.0990\n",
      "Epoch 8/20\n",
      "1000/1000 [==============================] - 0s 57us/step - loss: 2.3061 - acc: 0.1190\n",
      "Epoch 9/20\n",
      "1000/1000 [==============================] - 0s 52us/step - loss: 2.3117 - acc: 0.1170\n",
      "Epoch 10/20\n",
      "1000/1000 [==============================] - 0s 47us/step - loss: 2.3067 - acc: 0.1110\n",
      "Epoch 11/20\n",
      "1000/1000 [==============================] - 0s 50us/step - loss: 2.3037 - acc: 0.1330\n",
      "Epoch 12/20\n",
      "1000/1000 [==============================] - 0s 47us/step - loss: 2.3023 - acc: 0.1190\n",
      "Epoch 13/20\n",
      "1000/1000 [==============================] - 0s 43us/step - loss: 2.2982 - acc: 0.1020\n",
      "Epoch 14/20\n",
      "1000/1000 [==============================] - 0s 51us/step - loss: 2.3028 - acc: 0.1110\n",
      "Epoch 15/20\n",
      "1000/1000 [==============================] - 0s 47us/step - loss: 2.2958 - acc: 0.1260\n",
      "Epoch 16/20\n",
      "1000/1000 [==============================] - 0s 65us/step - loss: 2.3033 - acc: 0.1140\n",
      "Epoch 17/20\n",
      "1000/1000 [==============================] - 0s 48us/step - loss: 2.3053 - acc: 0.0950\n",
      "Epoch 18/20\n",
      "1000/1000 [==============================] - 0s 49us/step - loss: 2.2963 - acc: 0.1260\n",
      "Epoch 19/20\n",
      "1000/1000 [==============================] - 0s 42us/step - loss: 2.2988 - acc: 0.1070\n",
      "Epoch 20/20\n",
      "1000/1000 [==============================] - 0s 60us/step - loss: 2.2956 - acc: 0.1020\n",
      "100/100 [==============================] - 0s 346us/step\n"
     ]
    }
   ],
   "source": [
    "import keras\n",
    "from keras.models import Sequential\n",
    "from keras.layers import Dense, Dropout, Activation\n",
    "from keras.optimizers import SGD\n",
    "\n",
    "# Generate dummy data\n",
    "import numpy as np\n",
    "x_train = np.random.random((1000, 20))\n",
    "y_train = keras.utils.to_categorical(np.random.randint(10, size=(1000, 1)), num_classes=10)\n",
    "x_test = np.random.random((100, 20))\n",
    "y_test = keras.utils.to_categorical(np.random.randint(10, size=(100, 1)), num_classes=10)\n",
    "\n",
    "model = Sequential()\n",
    "# Dense(64) is a fully-connected layer with 64 hidden units.\n",
    "# in the first layer, you must specify the expected input data shape:\n",
    "# here, 20-dimensional vectors.\n",
    "model.add(Dense(64, activation='relu', input_dim=20))\n",
    "model.add(Dropout(0.5))\n",
    "model.add(Dense(64, activation='relu'))\n",
    "model.add(Dropout(0.5))\n",
    "model.add(Dense(10, activation='softmax'))\n",
    "\n",
    "sgd = SGD(lr=0.01, decay=1e-6, momentum=0.9, nesterov=True)\n",
    "model.compile(loss='categorical_crossentropy',\n",
    "              optimizer=sgd,\n",
    "              metrics=['accuracy'])\n",
    "\n",
    "model.fit(x_train, y_train,\n",
    "          epochs=20,\n",
    "          batch_size=128)\n",
    "score = model.evaluate(x_test, y_test, batch_size=128)"
   ]
  },
  {
   "cell_type": "markdown",
   "metadata": {},
   "source": [
    "#### MLP的二分类"
   ]
  },
  {
   "cell_type": "code",
   "execution_count": 3,
   "metadata": {},
   "outputs": [
    {
     "name": "stdout",
     "output_type": "stream",
     "text": [
      "Epoch 1/20\n",
      "1000/1000 [==============================] - 1s 559us/step - loss: 0.7365 - acc: 0.4730\n",
      "Epoch 2/20\n",
      "1000/1000 [==============================] - 0s 57us/step - loss: 0.7139 - acc: 0.4970\n",
      "Epoch 3/20\n",
      "1000/1000 [==============================] - 0s 49us/step - loss: 0.6929 - acc: 0.5490\n",
      "Epoch 4/20\n",
      "1000/1000 [==============================] - 0s 54us/step - loss: 0.7053 - acc: 0.4950\n",
      "Epoch 5/20\n",
      "1000/1000 [==============================] - 0s 53us/step - loss: 0.7015 - acc: 0.5060\n",
      "Epoch 6/20\n",
      "1000/1000 [==============================] - 0s 51us/step - loss: 0.7010 - acc: 0.5250\n",
      "Epoch 7/20\n",
      "1000/1000 [==============================] - 0s 44us/step - loss: 0.6942 - acc: 0.5210\n",
      "Epoch 8/20\n",
      "1000/1000 [==============================] - 0s 52us/step - loss: 0.6890 - acc: 0.5250\n",
      "Epoch 9/20\n",
      "1000/1000 [==============================] - 0s 52us/step - loss: 0.6985 - acc: 0.5110\n",
      "Epoch 10/20\n",
      "1000/1000 [==============================] - 0s 42us/step - loss: 0.6929 - acc: 0.5320\n",
      "Epoch 11/20\n",
      "1000/1000 [==============================] - 0s 56us/step - loss: 0.6889 - acc: 0.5270\n",
      "Epoch 12/20\n",
      "1000/1000 [==============================] - 0s 51us/step - loss: 0.6973 - acc: 0.5200\n",
      "Epoch 13/20\n",
      "1000/1000 [==============================] - 0s 49us/step - loss: 0.6942 - acc: 0.5340\n",
      "Epoch 14/20\n",
      "1000/1000 [==============================] - 0s 41us/step - loss: 0.6865 - acc: 0.5680\n",
      "Epoch 15/20\n",
      "1000/1000 [==============================] - 0s 53us/step - loss: 0.6891 - acc: 0.5380\n",
      "Epoch 16/20\n",
      "1000/1000 [==============================] - 0s 53us/step - loss: 0.6941 - acc: 0.5190\n",
      "Epoch 17/20\n",
      "1000/1000 [==============================] - 0s 46us/step - loss: 0.6905 - acc: 0.5480\n",
      "Epoch 18/20\n",
      "1000/1000 [==============================] - 0s 53us/step - loss: 0.6912 - acc: 0.5330\n",
      "Epoch 19/20\n",
      "1000/1000 [==============================] - 0s 42us/step - loss: 0.6870 - acc: 0.5380\n",
      "Epoch 20/20\n",
      "1000/1000 [==============================] - 0s 57us/step - loss: 0.6935 - acc: 0.5240\n",
      "100/100 [==============================] - 0s 416us/step\n"
     ]
    }
   ],
   "source": [
    "import numpy as np\n",
    "from keras.models import Sequential\n",
    "from keras.layers import Dense, Dropout\n",
    "\n",
    "# Generate dummy data\n",
    "x_train = np.random.random((1000, 20))\n",
    "y_train = np.random.randint(2, size=(1000, 1))\n",
    "x_test = np.random.random((100, 20))\n",
    "y_test = np.random.randint(2, size=(100, 1))\n",
    "\n",
    "model = Sequential()\n",
    "model.add(Dense(64, input_dim=20, activation='relu'))\n",
    "model.add(Dropout(0.5))\n",
    "model.add(Dense(64, activation='relu'))\n",
    "model.add(Dropout(0.5))\n",
    "model.add(Dense(1, activation='sigmoid'))\n",
    "\n",
    "model.compile(loss='binary_crossentropy',\n",
    "              optimizer='rmsprop',\n",
    "              metrics=['accuracy'])\n",
    "model.fit(x_train, y_train,\n",
    "          epochs=20,\n",
    "          batch_size=128)\n",
    "score = model.evaluate(x_test, y_test, batch_size=128)"
   ]
  },
  {
   "cell_type": "markdown",
   "metadata": {},
   "source": [
    "类似VGG的卷积神经网络"
   ]
  },
  {
   "cell_type": "code",
   "execution_count": 4,
   "metadata": {},
   "outputs": [
    {
     "name": "stdout",
     "output_type": "stream",
     "text": [
      "Epoch 1/10\n",
      "100/100 [==============================] - 3s 32ms/step - loss: 2.3788\n",
      "Epoch 2/10\n",
      "100/100 [==============================] - 0s 2ms/step - loss: 2.3373\n",
      "Epoch 3/10\n",
      "100/100 [==============================] - 0s 2ms/step - loss: 2.2930\n",
      "Epoch 4/10\n",
      "100/100 [==============================] - 0s 2ms/step - loss: 2.2912\n",
      "Epoch 5/10\n",
      "100/100 [==============================] - 0s 2ms/step - loss: 2.2828\n",
      "Epoch 6/10\n",
      "100/100 [==============================] - 0s 2ms/step - loss: 2.3000\n",
      "Epoch 7/10\n",
      "100/100 [==============================] - 0s 2ms/step - loss: 2.2897\n",
      "Epoch 8/10\n",
      "100/100 [==============================] - 0s 2ms/step - loss: 2.2890\n",
      "Epoch 9/10\n",
      "100/100 [==============================] - 0s 2ms/step - loss: 2.2761\n",
      "Epoch 10/10\n",
      "100/100 [==============================] - 0s 2ms/step - loss: 2.2831\n",
      "20/20 [==============================] - 0s 5ms/step\n"
     ]
    }
   ],
   "source": [
    "import numpy as np\n",
    "import keras\n",
    "from keras.models import Sequential\n",
    "from keras.layers import Dense, Dropout, Flatten\n",
    "from keras.layers import Conv2D, MaxPooling2D\n",
    "from keras.optimizers import SGD\n",
    "\n",
    "# Generate dummy data\n",
    "x_train = np.random.random((100, 100, 100, 3))\n",
    "y_train = keras.utils.to_categorical(np.random.randint(10, size=(100, 1)), num_classes=10)\n",
    "x_test = np.random.random((20, 100, 100, 3))\n",
    "y_test = keras.utils.to_categorical(np.random.randint(10, size=(20, 1)), num_classes=10)\n",
    "\n",
    "model = Sequential()\n",
    "# input: 100x100 images with 3 channels -> (100, 100, 3) tensors.\n",
    "# this applies 32 convolution filters of size 3x3 each.\n",
    "model.add(Conv2D(32, (3, 3), activation='relu', input_shape=(100, 100, 3)))\n",
    "model.add(Conv2D(32, (3, 3), activation='relu'))\n",
    "model.add(MaxPooling2D(pool_size=(2, 2)))\n",
    "model.add(Dropout(0.25))\n",
    "\n",
    "model.add(Conv2D(64, (3, 3), activation='relu'))\n",
    "model.add(Conv2D(64, (3, 3), activation='relu'))\n",
    "model.add(MaxPooling2D(pool_size=(2, 2)))\n",
    "model.add(Dropout(0.25))\n",
    "\n",
    "model.add(Flatten())\n",
    "model.add(Dense(256, activation='relu'))\n",
    "model.add(Dropout(0.5))\n",
    "model.add(Dense(10, activation='softmax'))\n",
    "\n",
    "sgd = SGD(lr=0.01, decay=1e-6, momentum=0.9, nesterov=True)\n",
    "model.compile(loss='categorical_crossentropy', optimizer=sgd)\n",
    "\n",
    "model.fit(x_train, y_train, batch_size=32, epochs=10)\n",
    "score = model.evaluate(x_test, y_test, batch_size=32)"
   ]
  },
  {
   "cell_type": "markdown",
   "metadata": {},
   "source": [
    "#### 使用LSTM的序列分类"
   ]
  },
  {
   "cell_type": "code",
   "execution_count": null,
   "metadata": {
    "collapsed": true
   },
   "outputs": [],
   "source": [
    "from keras.models import Sequential\n",
    "from keras.layers import Dense, Dropout\n",
    "from keras.layers import Embedding\n",
    "from keras.layers import LSTM\n",
    "\n",
    "model = Sequential()\n",
    "model.add(Embedding(max_features, output_dim=256))\n",
    "model.add(LSTM(128))\n",
    "model.add(Dropout(0.5))\n",
    "model.add(Dense(1, activation='sigmoid'))\n",
    "\n",
    "model.compile(loss='binary_crossentropy',\n",
    "              optimizer='rmsprop',\n",
    "              metrics=['accuracy'])\n",
    "\n",
    "model.fit(x_train, y_train, batch_size=16, epochs=10)\n",
    "score = model.evaluate(x_test, y_test, batch_size=16)"
   ]
  },
  {
   "cell_type": "markdown",
   "metadata": {},
   "source": [
    "#### 使用1D卷积的序列分类"
   ]
  },
  {
   "cell_type": "code",
   "execution_count": null,
   "metadata": {
    "collapsed": true
   },
   "outputs": [],
   "source": [
    "from keras.models import Sequential\n",
    "from keras.layers import Dense, Dropout\n",
    "from keras.layers import Embedding\n",
    "from keras.layers import Conv1D, GlobalAveragePooling1D, MaxPooling1D\n",
    "\n",
    "model = Sequential()\n",
    "model.add(Conv1D(64, 3, activation='relu', input_shape=(seq_length, 100)))\n",
    "model.add(Conv1D(64, 3, activation='relu'))\n",
    "model.add(MaxPooling1D(3))\n",
    "model.add(Conv1D(128, 3, activation='relu'))\n",
    "model.add(Conv1D(128, 3, activation='relu'))\n",
    "model.add(GlobalAveragePooling1D())\n",
    "model.add(Dropout(0.5))\n",
    "model.add(Dense(1, activation='sigmoid'))\n",
    "\n",
    "model.compile(loss='binary_crossentropy',\n",
    "              optimizer='rmsprop',\n",
    "              metrics=['accuracy'])\n",
    "\n",
    "model.fit(x_train, y_train, batch_size=16, epochs=10)\n",
    "score = model.evaluate(x_test, y_test, batch_size=16)"
   ]
  },
  {
   "cell_type": "markdown",
   "metadata": {},
   "source": [
    "#### 用于序列分类的栈式LSTM"
   ]
  },
  {
   "cell_type": "markdown",
   "metadata": {},
   "source": [
    "![](0.png)"
   ]
  },
  {
   "cell_type": "markdown",
   "metadata": {
    "collapsed": true
   },
   "source": [
    "在该模型中，将**三个LSTM**堆叠在一起，使得该模型能够学习**更高层次的时域特征**表示  \n",
    "前2层LSTM返回其全部输出序列，第三层只返回其输出序列的最后一步结果，从而使得时域维度降低（即将输入序列转换为单个向量）"
   ]
  },
  {
   "cell_type": "code",
   "execution_count": null,
   "metadata": {
    "collapsed": true
   },
   "outputs": [],
   "source": [
    "from keras.models import Sequential\n",
    "from keras.layers import LSTM, Dense\n",
    "import numpy as np\n",
    "\n",
    "data_dim = 16\n",
    "timesteps = 8\n",
    "num_classes = 10\n",
    "\n",
    "# expected input data shape: (batch_size, timesteps, data_dim)\n",
    "model = Sequential()\n",
    "model.add(LSTM(32, return_sequences=True,\n",
    "               input_shape=(timesteps, data_dim)))  # returns a sequence of vectors of dimension 32\n",
    "model.add(LSTM(32, return_sequences=True))  # returns a sequence of vectors of dimension 32\n",
    "model.add(LSTM(32))  # return a single vector of dimension 32\n",
    "model.add(Dense(10, activation='softmax'))\n",
    "\n",
    "model.compile(loss='categorical_crossentropy',\n",
    "              optimizer='rmsprop',\n",
    "              metrics=['accuracy'])\n",
    "\n",
    "# Generate dummy training data\n",
    "x_train = np.random.random((1000, timesteps, data_dim))\n",
    "y_train = np.random.random((1000, num_classes))\n",
    "\n",
    "# Generate dummy validation data\n",
    "x_val = np.random.random((100, timesteps, data_dim))\n",
    "y_val = np.random.random((100, num_classes))\n",
    "\n",
    "model.fit(x_train, y_train,\n",
    "          batch_size=64, epochs=5,\n",
    "          validation_data=(x_val, y_val))"
   ]
  },
  {
   "cell_type": "markdown",
   "metadata": {},
   "source": [
    "### 采用stateful LSTM的相同模型"
   ]
  },
  {
   "cell_type": "markdown",
   "metadata": {},
   "source": [
    "stateful LSTM的特点是，在处理一个batch后，其内部状态（记忆）会被作为下一个batch的初始状态。状态LSTM使得我们可以在合理的计算复杂度内处理长序列。"
   ]
  },
  {
   "cell_type": "code",
   "execution_count": 1,
   "metadata": {},
   "outputs": [
    {
     "ename": "SyntaxError",
     "evalue": "invalid character in identifier (<ipython-input-1-91ff3bfba7d9>, line 4)",
     "output_type": "error",
     "traceback": [
      "\u001b[1;36m  File \u001b[1;32m\"<ipython-input-1-91ff3bfba7d9>\"\u001b[1;36m, line \u001b[1;32m4\u001b[0m\n\u001b[1;33m    answer.add(Merge([response, question_encoder], mode=’concat’, concat_axis=-1))\u001b[0m\n\u001b[1;37m                                                               ^\u001b[0m\n\u001b[1;31mSyntaxError\u001b[0m\u001b[1;31m:\u001b[0m invalid character in identifier\n"
     ]
    }
   ],
   "source": [
    "from keras.utils.visualize_util import plot\n",
    "\n",
    "answer = Sequential() \n",
    "answer.add(Merge([response, question_encoder], mode=’concat’, concat_axis=-1)) \n",
    "answer.add(LSTM(32)) \n",
    "answer.add(Dropout(0.3)) \n",
    "answer.add(Dense(vocab_size)) \n",
    "answer.add(Activation(‘softmax’))\n",
    "\n",
    "plot(answer, to_file=’answer_model.png’)"
   ]
  },
  {
   "cell_type": "code",
   "execution_count": null,
   "metadata": {
    "collapsed": true
   },
   "outputs": [],
   "source": []
  }
 ],
 "metadata": {
  "kernelspec": {
   "display_name": "Python [conda env:ml]",
   "language": "python",
   "name": "conda-env-ml-py"
  },
  "language_info": {
   "codemirror_mode": {
    "name": "ipython",
    "version": 3
   },
   "file_extension": ".py",
   "mimetype": "text/x-python",
   "name": "python",
   "nbconvert_exporter": "python",
   "pygments_lexer": "ipython3",
   "version": "3.5.4"
  }
 },
 "nbformat": 4,
 "nbformat_minor": 2
}
